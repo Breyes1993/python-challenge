{
 "cells": [
  {
   "cell_type": "code",
   "execution_count": 68,
   "metadata": {},
   "outputs": [
    {
     "name": "stdout",
     "output_type": "stream",
     "text": [
      "\n",
      "\n",
      "Election Results\n",
      "-----------------------\n",
      "Total Votes: 1048575\n",
      "--------------------------\n",
      "Khan: 0.000% (1)\n",
      "Correy: 0.000% (0)\n",
      "Li: 0.000% (0)\n",
      "O'Tooley: 0.000% (0)\n",
      "----------------------------\n",
      "Winner: Khan\n",
      "----------------------------\n",
      "\n"
     ]
    },
    {
     "ename": "ValueError",
     "evalue": "I/O operation on closed file.",
     "output_type": "error",
     "traceback": [
      "\u001b[1;31m---------------------------------------------------------------------------\u001b[0m",
      "\u001b[1;31mValueError\u001b[0m                                Traceback (most recent call last)",
      "\u001b[1;32m<ipython-input-68-331dcc1a6003>\u001b[0m in \u001b[0;36m<module>\u001b[1;34m\u001b[0m\n\u001b[0;32m     59\u001b[0m \u001b[0mprint\u001b[0m\u001b[1;33m(\u001b[0m\u001b[0mwinning_candidate_summary\u001b[0m\u001b[1;33m)\u001b[0m\u001b[1;33m\u001b[0m\u001b[1;33m\u001b[0m\u001b[0m\n\u001b[0;32m     60\u001b[0m \u001b[1;33m\u001b[0m\u001b[0m\n\u001b[1;32m---> 61\u001b[1;33m \u001b[0mtxt_file\u001b[0m\u001b[1;33m.\u001b[0m\u001b[0mwrite\u001b[0m\u001b[1;33m(\u001b[0m\u001b[0mwinning_candidate_summary\u001b[0m\u001b[1;33m)\u001b[0m\u001b[1;33m\u001b[0m\u001b[1;33m\u001b[0m\u001b[0m\n\u001b[0m\u001b[0;32m     62\u001b[0m \u001b[1;33m\u001b[0m\u001b[0m\n",
      "\u001b[1;31mValueError\u001b[0m: I/O operation on closed file."
     ]
    }
   ],
   "source": [
    "import os\n",
    "import csv\n",
    "\n",
    "file_load = os.path.join(\"..\",\"Resources\",\"election_data.csv\")\n",
    "\n",
    "file_output = \"vote_talley.txt\"\n",
    "\n",
    "total_votes = 0              \n",
    "candidate_choices = []       \n",
    "candidate_votes = {}         \n",
    "candidate_winner = \"\"        \n",
    "winner_votes = 0             \n",
    "\n",
    "#error in this cell\n",
    "with open(file_load, newline=\"\", encoding='utf-8') as election_data:\n",
    "    reader = csv.DictReader(election_data)\n",
    "\n",
    "    for row in reader:\n",
    "        #print(\". \", end=\"\"),\n",
    "        total_votes = total_votes + 1\n",
    "        candidate_name = row[\"Candidate\"]\n",
    "        \n",
    "\n",
    "        if candidate_name not in candidate_choices:\n",
    "            candidate_choices.append(candidate_name)\n",
    "            candidate_votes[candidate_name] = 0\n",
    "candidate_votes[candidate_name] = candidate_votes[candidate_name] + 1\n",
    "\n",
    "with open(file_output,\"w\") as txt_file:\n",
    "    \n",
    "    election_results = (\n",
    "        f\"\\n\\nElection Results\\n\"\n",
    "        f\"-----------------------\\n\"\n",
    "        f\"Total Votes: {total_votes}\\n\"\n",
    "        f\"--------------------------\\n\")\n",
    "    print(election_results, end=\"\")\n",
    "    \n",
    "    txt_file.write(election_results)\n",
    "        \n",
    "    for candidate in candidate_votes:\n",
    "        votes=candidate_votes.get(candidate)\n",
    "        vote_percentage = float(votes) / float(total_votes) * 100\n",
    "        \n",
    "        if (votes > winner_votes):\n",
    "            winner_votes = votes\n",
    "            winning_candidate = candidate\n",
    "        \n",
    "        voter_output = f\"{candidate}: {vote_percentage:.3f}% ({votes})\\n\"\n",
    "        print(voter_output, end=\"\")\n",
    "\n",
    "        txt_file.write(voter_output)\n",
    " \n",
    "\n",
    "       \n",
    "winning_candidate_summary = (\n",
    "        f\"----------------------------\\n\"\n",
    "        f\"Winner: {winning_candidate}\\n\"\n",
    "        f\"----------------------------\\n\")    \n",
    "print(winning_candidate_summary)\n",
    "    \n",
    "txt_file.write(winning_candidate_summary)\n",
    "        "
   ]
  },
  {
   "cell_type": "code",
   "execution_count": null,
   "metadata": {},
   "outputs": [],
   "source": []
  }
 ],
 "metadata": {
  "kernelspec": {
   "display_name": "Python 3",
   "language": "python",
   "name": "python3"
  },
  "language_info": {
   "codemirror_mode": {
    "name": "ipython",
    "version": 3
   },
   "file_extension": ".py",
   "mimetype": "text/x-python",
   "name": "python",
   "nbconvert_exporter": "python",
   "pygments_lexer": "ipython3",
   "version": "3.7.1"
  }
 },
 "nbformat": 4,
 "nbformat_minor": 2
}
