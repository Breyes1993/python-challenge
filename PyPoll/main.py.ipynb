{
 "cells": [
  {
   "cell_type": "code",
   "execution_count": 1,
   "metadata": {},
   "outputs": [
    {
     "name": "stdout",
     "output_type": "stream",
     "text": [
      "\n",
      "\n",
      "Election Results\n",
      "-----------------------\n",
      "Total Votes: 3521002\n",
      "--------------------------\n",
      "Candidate: 0.000% (1)\n",
      "Khan: 63.000% (2218231)\n",
      "Correy: 20.000% (704200)\n",
      "Li: 14.000% (492940)\n",
      "O'Tooley: 3.000% (105630)\n",
      "----------------------------\n",
      "Winner: Khan\n",
      "----------------------------\n",
      "\n"
     ]
    }
   ],
   "source": [
    "import os\n",
    "import csv\n",
    "\n",
    "file_load = os.path.join(\"election_data.csv\")\n",
    "\n",
    "file_output = \"vote_talley.txt\"\n",
    "\n",
    "total_votes = 0              \n",
    "candidate_choices = []       \n",
    "candidate_votes = {}         \n",
    "candidate_winner = \"\"        \n",
    "winner_votes = 0             \n",
    "\n",
    "#error in this cell\n",
    "with open(file_load, newline=\"\", encoding='utf-8') as election_data:\n",
    "    csvreader = csv.reader(election_data, delimiter=\",\")\n",
    "\n",
    "    for row in csvreader:\n",
    "        total_votes = total_votes + 1    \n",
    "        candidate_name = row[2]\n",
    "        if candidate_name not in candidate_choices:\n",
    "            candidate_choices.append(candidate_name)\n",
    "            candidate_votes[candidate_name] = 0\n",
    "        candidate_votes[candidate_name] = candidate_votes[candidate_name] + 1\n",
    "\n",
    "with open(file_output,\"w\") as txt_file:\n",
    "    \n",
    "    election_results = (\n",
    "        f\"\\n\\nElection Results\\n\"\n",
    "        f\"-----------------------\\n\"\n",
    "        f\"Total Votes: {total_votes}\\n\"\n",
    "        f\"--------------------------\\n\")\n",
    "    print(election_results, end=\"\")\n",
    "    \n",
    "    txt_file.write(election_results)\n",
    "       \n",
    "    for candidate in candidate_votes:\n",
    "        votes=candidate_votes.get(candidate)\n",
    "        vote_percentage = float(votes) / float(total_votes) * 100\n",
    "        \n",
    "        if (votes > winner_votes):\n",
    "            winner_votes = votes\n",
    "            winning_candidate = candidate\n",
    "        \n",
    "        voter_output = f\"{candidate}: {vote_percentage:.3f}% ({votes})\\n\"\n",
    "        print(voter_output, end=\"\")\n",
    "\n",
    "        txt_file.write(voter_output)\n",
    " \n",
    "\n",
    "       \n",
    "    winning_candidate_summary = (\n",
    "        f\"----------------------------\\n\"\n",
    "        f\"Winner: {winning_candidate}\\n\"\n",
    "        f\"----------------------------\\n\")    \n",
    "    print(winning_candidate_summary)\n",
    "    \n",
    "    txt_file.write(winning_candidate_summary)\n",
    "        "
   ]
  },
  {
   "cell_type": "code",
   "execution_count": null,
   "metadata": {},
   "outputs": [],
   "source": []
  }
 ],
 "metadata": {
  "kernelspec": {
   "display_name": "Python 3",
   "language": "python",
   "name": "python3"
  },
  "language_info": {
   "codemirror_mode": {
    "name": "ipython",
    "version": 3
   },
   "file_extension": ".py",
   "mimetype": "text/x-python",
   "name": "python",
   "nbconvert_exporter": "python",
   "pygments_lexer": "ipython3",
   "version": "3.7.1"
  }
 },
 "nbformat": 4,
 "nbformat_minor": 2
}
