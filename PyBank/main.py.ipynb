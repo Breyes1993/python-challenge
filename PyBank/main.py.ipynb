{
 "cells": [
  {
   "cell_type": "code",
   "execution_count": 4,
   "metadata": {},
   "outputs": [
    {
     "name": "stdout",
     "output_type": "stream",
     "text": [
      "Total Months: 86\n",
      "Total: $38382578\n",
      "Average Change: $ 7803.476744186047\n",
      "Greatest Increase in Profits: ['Feb-2012', 1926159]\n",
      "Greatest Decrease in Profits: ['Sep-2013', -2196167]\n"
     ]
    }
   ],
   "source": [
    "import os\n",
    "import csv\n",
    "\n",
    "pybank_csv_path = os.path.join(\"..\",\"Resources\",\"budget_data.csv\")\n",
    "\n",
    "file_output = \"Budget_Results.txt\"\n",
    "\n",
    "\n",
    "\n",
    "total_months = 0\n",
    "total_PL = 0\n",
    "prev_PL = 0\n",
    "month_of_change = []\n",
    "PL_changelist = []\n",
    "biggest_decr = ['', 99999999999]\n",
    "biggest_incr = ['', 0]\n",
    "\n",
    "with open(pybank_csv_path, newline=\"\") as csvfile:  \n",
    "    reader = csv.DictReader(csvfile)\n",
    "    \n",
    "    for row in reader:     \n",
    "        total_months = total_months + 1   \n",
    "        total_PL = total_PL + int(row[\"Profit/Losses\"])\n",
    "\n",
    "\n",
    "        PL_change = int(row[\"Profit/Losses\"])- prev_PL\n",
    "        prev_PL = int(row[\"Profit/Losses\"])\n",
    "        PL_changelist = PL_changelist + [PL_change]\n",
    "        month_of_change = month_of_change + [row[\"Date\"]]\n",
    "   \n",
    "        if (PL_change>biggest_incr[1]):\n",
    "            biggest_incr[0] = row['Date']\n",
    "            biggest_incr[1]= PL_change\n",
    "            \n",
    "        if PL_change<biggest_decr[1]:\n",
    "            biggest_decr[0] = row['Date']\n",
    "            biggest_decr[1]= PL_change\n",
    "\n",
    "PL_avg = sum(PL_changelist) / len(PL_changelist)\n",
    "\n",
    "\n",
    "print(\"Total Months: \" + str(total_months))\n",
    "print(\"Total: $\" + str(total_PL))\n",
    "print('Average Change: $ ' + str(PL_avg))\n",
    "print(\"Greatest Increase in Profits: \" + str(biggest_incr))\n",
    "print(\"Greatest Decrease in Profits: \" + str(biggest_decr))\n",
    "\n",
    "\n",
    "output= (\n",
    "    f\"\\nFinancial Analysis\\n\"\n",
    "    f\"---------------------\\n\"\n",
    "    f\"Total Months: {total_months}\\n\"\n",
    "    f\"Total P/L:  ${total_PL}\\n\"\n",
    "    f\"Average Revenue Change: ${PL_avg}\\n\"\n",
    "    f\"Greatest Increase in Profits: {biggest_incr[0]} (${biggest_incr[1]})\\n\"\n",
    "    f\"Greatest Decrease in Profits: {biggest_decr[0]} (${biggest_decr[1]})\\n\")\n",
    "    \n",
    "with open(file_output, 'w') as txt_file:\n",
    "    txt_file.write(output)\n"
   ]
  },
  {
   "cell_type": "code",
   "execution_count": null,
   "metadata": {},
   "outputs": [],
   "source": []
  }
 ],
 "metadata": {
  "kernelspec": {
   "display_name": "Python 3",
   "language": "python",
   "name": "python3"
  },
  "language_info": {
   "codemirror_mode": {
    "name": "ipython",
    "version": 3
   },
   "file_extension": ".py",
   "mimetype": "text/x-python",
   "name": "python",
   "nbconvert_exporter": "python",
   "pygments_lexer": "ipython3",
   "version": "3.7.1"
  }
 },
 "nbformat": 4,
 "nbformat_minor": 2
}
